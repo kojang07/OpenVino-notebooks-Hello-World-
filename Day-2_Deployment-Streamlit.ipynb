{
 "cells": [
  {
   "cell_type": "markdown",
   "id": "291dc37b",
   "metadata": {},
   "source": [
    "# Hello Image Classification\n",
    "\n",
    "This basic introduction to OpenVINO™ shows how to do inference with an image classification model.\n",
    "\n",
    "A pre-trained [MobileNetV3 model](https://github.com/openvinotoolkit/open_model_zoo/blob/master/models/public/mobilenet-v3-small-1.0-224-tf/README.md) from [Open Model Zoo](https://github.com/openvinotoolkit/open_model_zoo/) is used in this tutorial. For more information about how OpenVINO IR models are created, refer to the [TensorFlow to OpenVINO](../tensorflow-classification-to-openvino/tensorflow-classification-to-openvino.ipynb) tutorial.\n"
   ]
  },
  {
   "cell_type": "code",
   "execution_count": 1,
   "id": "87ec711e-10c7-4a14-a711-41b8e8753a20",
   "metadata": {},
   "outputs": [],
   "source": [
    "import streamlit as st\n",
    "import cv2\n",
    "import numpy as np\n",
    "import PIL\n",
    "from pathlib import Path\n",
    "\n",
    "import openvino as ov"
   ]
  },
  {
   "cell_type": "code",
   "execution_count": 2,
   "id": "8ef7c62b-2a1c-4a59-ad27-db7725bcfff9",
   "metadata": {},
   "outputs": [
    {
     "name": "stderr",
     "output_type": "stream",
     "text": [
      "2024-10-01 15:13:31.115 \n",
      "  \u001b[33m\u001b[1mWarning:\u001b[0m to view this Streamlit app on a browser, run it with the following\n",
      "  command:\n",
      "\n",
      "    streamlit run C:\\Users\\kojan\\.conda\\envs\\BrainAI\\lib\\site-packages\\ipykernel_launcher.py [ARGUMENTS]\n"
     ]
    }
   ],
   "source": [
    "st.set_page_config(\n",
    "    page_title=\"Hello Image Classification\",\n",
    "    page_icon=\":sun_with_face:\",\n",
    "    layout=\"centered\",\n",
    "    initial_sidebar_state=\"expanded\",)\n",
    "\n",
    "st.title(\"Hello Image Classification :sun_with_face:\")\n",
    "\n",
    "st.sidebar.header(\"Type\")\n",
    "source_radio = st.sidebar.radio(\"Select Source\", [\"IMAGE\"])\n",
    "\n",
    "st.sidebar.header(\"Confidence\")\n",
    "conf_threshold = float(st.sidebar.slider(\"Select the Confidence Threshold\", 10, 100, 20))/100"
   ]
  },
  {
   "cell_type": "code",
   "execution_count": 3,
   "id": "ae09791e-3b25-4b09-a984-553b78436009",
   "metadata": {},
   "outputs": [],
   "source": [
    "core = ov.Core()\n",
    "model = core.read_model(model='models/v3-small_224_1.0_float.xml')\n",
    "compiled_model = core.compile_model(model = model, device_name=\"CPU\")\n",
    "input_layer = compiled_model.input(0)\n",
    "output_layer = compiled_model.output(0)\n",
    "\n",
    "def preprocess(image, input_layer):\n",
    "    input_image = cv2.resize(src=image, dsize=(224, 224))\n",
    "    input_image = np.expand_dims(input_image, 0)\n",
    "    return input_image \n",
    "\n",
    "def predict_image(image, conf_threshold):\n",
    "    input_image = preprocess(image, input_layer)\n",
    "    result_infer = compiled_model([input_image])[output_layer]\n",
    "    result_index = np.argmax(result_infer)\n",
    "    imagenet_filename = Path('data/imagenet_2012.txt')\n",
    "    imagenet_classes = imagenet_filename.read_text().splitlines()\n",
    "    imagenet_classes = [\"background\"] + imagenet_classes\n",
    "    imagenet_classes = imagenet_classes[result_index]\n",
    "    return imagenet_classes"
   ]
  },
  {
   "cell_type": "code",
   "execution_count": 4,
   "id": "53b15f2a-1bae-4f65-bd76-5d73ea1c693a",
   "metadata": {},
   "outputs": [],
   "source": [
    "input = None \n",
    "if source_radio == \"IMAGE\":\n",
    "    st.sidebar.header(\"Upload\")\n",
    "    input = st.sidebar.file_uploader(\"Choose an image.\", type=(\"jpg\", \"png\"))\n",
    "    if input is not None:\n",
    "        uploaded_image = PIL.Image.open(input)\n",
    "        uploaded_image_cv = cv2.cvtColor(np.array(uploaded_image), cv2.COLOR_RGB2BGR)\n",
    "        imagenet_classes = predict_image(uploaded_image_cv, conf_threshold = conf_threshold)\n",
    "        st.image(uploaded_image_cv, channels = \"BGR\")\n",
    "        st.markdown(f\"<h2 style='color: red;'>{''.join(imagenet_classes)}</h2><h4 style='color: blue;'><strong>The result of running the AI inference on an image:</strong></h4>\", unsafe_allow_html=True)\n",
    "    else: \n",
    "        st.image(\"data/coco.jpg\")\n",
    "        st.write(\"Click on 'Browse Files' in the sidebar to run inference on an image.\" )"
   ]
  },
  {
   "cell_type": "code",
   "execution_count": 5,
   "id": "a293a175-b1af-4ba7-92c1-7351cfefd6a0",
   "metadata": {},
   "outputs": [
    {
     "name": "stderr",
     "output_type": "stream",
     "text": [
      "[NbConvertApp] Converting notebook Day-2_Deployment-Streamlit.ipynb to script\n",
      "[NbConvertApp] Writing 3003 bytes to Day-2_Deployment-Streamlit.py\n"
     ]
    }
   ],
   "source": [
    "!jupyter nbconvert --to script Day-2_Deployment-Streamlit.ipynb"
   ]
  },
  {
   "cell_type": "code",
   "execution_count": null,
   "id": "2ef02fa5-605d-442b-8188-6c0282da2b4a",
   "metadata": {},
   "outputs": [],
   "source": []
  }
 ],
 "metadata": {
  "interpreter": {
   "hash": "cd5437b16fd5f67deabdf7e7132d444cc39310b7a33353e3b68dab8f7e829ac5"
  },
  "kernelspec": {
   "display_name": "Python 3 (ipykernel)",
   "language": "python",
   "name": "python3"
  },
  "language_info": {
   "codemirror_mode": {
    "name": "ipython",
    "version": 3
   },
   "file_extension": ".py",
   "mimetype": "text/x-python",
   "name": "python",
   "nbconvert_exporter": "python",
   "pygments_lexer": "ipython3",
   "version": "3.8.15"
  },
  "openvino_notebooks": {
   "imageUrl": "https://user-images.githubusercontent.com/36741649/127172572-1cdab941-df5f-42e2-a367-2b334a3db6d8.jpg",
   "tags": {
    "categories": [
     "First Steps"
    ],
    "libraries": [],
    "other": [],
    "tasks": [
     "Image Classification"
    ]
   }
  },
  "widgets": {
   "application/vnd.jupyter.widget-state+json": {
    "state": {},
    "version_major": 2,
    "version_minor": 0
   }
  }
 },
 "nbformat": 4,
 "nbformat_minor": 5
}
